{
 "cells": [
  {
   "cell_type": "code",
   "execution_count": 20,
   "id": "2011aafa",
   "metadata": {},
   "outputs": [],
   "source": [
    "import numpy as np\n",
    "import scipy.stats\n",
    "from scipy import special\n",
    "import pylab as plt\n",
    "#import SDDlib as sdd\n",
    "%matplotlib notebook\n",
    "#import tqdm\n",
    "plt.rcParams['figure.figsize'] = [8, 8]"
   ]
  },
  {
   "cell_type": "code",
   "execution_count": 21,
   "id": "1d9aaf44",
   "metadata": {},
   "outputs": [],
   "source": [
    "G = 6.67259 * 10**-8 #G in cgs\n",
    "\n",
    "h = 6.63*10**(-27) #erg s \n",
    "c = 2.99*10**(10) #cm s^-1\n",
    "m_p = 1.67262192 * 10**(-24) #g\n",
    "kb = 1.38 * 10**(-16) #erg/K\n",
    "E_ion_hydrogen = 13.6 * 1.60218e-12\n",
    "#E_Ly_alpha = 10.2 * 1.60218e-12\n",
    "#E_Ly_beta = 12.1 * 1.60218e-12\n",
    "\n",
    "M_sun = 1.9891 * 10**33 #solar mass in g\n",
    "R_sun = 6.9598 * 10**10 #solar radius in cm \n",
    "M_earth = 5.976 * 10**27 #earth mass in g\n",
    "R_earth = 6.378 * 10**8 #earth radius in cm\n",
    "ly = 9.463 * 10**17 #light year in cm\n",
    "parsec = 3.086 * 10**18 #parsec in cm\n",
    "AU = 1.496 * 10**13 #astronomical unit in cm"
   ]
  },
  {
   "cell_type": "code",
   "execution_count": 22,
   "id": "280e59bf",
   "metadata": {},
   "outputs": [],
   "source": [
    "frequency = np.linspace(0, 10**18, 1000000)\n",
    "wavelenght = np.linspace(10**-6, 10**-2, 1000000)\n",
    "\n",
    "def black_body_wavelenght(T):\n",
    "    return (2 * h * c**2 / wavelenght**5)/(np.exp(h*c/(wavelenght*kb*T))-1)\n",
    "\n",
    "def black_body_frequency(T):\n",
    "    return (2 * h * frequency**3 / c**2)/(np.exp(h*frequency/(kb*T))-1)"
   ]
  },
  {
   "cell_type": "code",
   "execution_count": 24,
   "id": "c821105c",
   "metadata": {},
   "outputs": [
    {
     "data": {
      "text/plain": [
       "<matplotlib.collections.PolyCollection at 0x70e234404590>"
      ]
     },
     "execution_count": 24,
     "metadata": {},
     "output_type": "execute_result"
    }
   ],
   "source": [
    "plt.plot(wavelenght, black_body_wavelenght(5700), label=\"T=5700 K\")\n",
    "#plt.plot(wavelenght, black_body_wavelenght(3000), label=\"T=3000 K\")\n",
    "#plt.plot(wavelenght, black_body_wavelenght(10000), label=\"T=60000 K\")\n",
    "#plt.plot(wavelenght, black_body_wavelenght(10**4), label=\"T=10^4 K\")\n",
    "#plt.plot(v, bbody(10**5), label=\"T=10^5 K\")\n",
    "#plt.plot(v, bbody(10**6), label=\"T=10^6 K\")\n",
    "#plt.plot(v, bbody(10**7), label=\"T=10^7 K\")\n",
    "\n",
    "plt.xscale(\"log\")\n",
    "plt.yscale(\"log\")\n",
    "plt.xlabel(\"v[Hz]\")\n",
    "plt.ylabel(\"emissivity [erg s^-1 cm^-3]\")\n",
    "plt.xlim(6*10**(-6), 10**(-3))\n",
    "plt.ylim(10**(11), 10**(16))\n",
    "plt.title(\"Black Body Spectra\")\n",
    "plt.legend()\n",
    "plt.grid()\n",
    "plt.show()\n",
    "\n",
    "plt.fill_between(wavelenght,black_body_wavelenght(5700), where= (380*10**-7 < wavelenght)&(wavelenght < 420*10**-7), color= \"purple\")\n",
    "plt.fill_between(wavelenght,black_body_wavelenght(5700), where= (420*10**-7 < wavelenght)&(wavelenght < 500*10**-7), color= \"blue\")\n",
    "plt.fill_between(wavelenght,black_body_wavelenght(5700), where= (500*10**-7 < wavelenght)&(wavelenght < 565*10**-7), color= \"green\")\n",
    "plt.fill_between(wavelenght,black_body_wavelenght(5700), where= (565*10**-7 < wavelenght)&(wavelenght < 590*10**-7), color= \"yellow\")\n",
    "plt.fill_between(wavelenght,black_body_wavelenght(5700), where= (590*10**-7 < wavelenght)&(wavelenght < 625*10**-7), color= \"orange\")\n",
    "plt.fill_between(wavelenght,black_body_wavelenght(5700), where= (625*10**-7 < wavelenght)&(wavelenght < 750*10**-7), color= \"red\")"
   ]
  },
  {
   "cell_type": "code",
   "execution_count": 16,
   "id": "aeaa5355",
   "metadata": {},
   "outputs": [
    {
     "name": "stderr",
     "output_type": "stream",
     "text": [
      "/tmp/ipykernel_24653/1114465072.py:5: RuntimeWarning: overflow encountered in exp\n",
      "  return (2 * h * c**2 / wavelenght**5)/(np.exp(h*c/(wavelenght*kb*T))-1)\n"
     ]
    }
   ],
   "source": [
    "wavelenght_2 = np.linspace(10**-4, 10**2, 1000000)\n",
    "\n",
    "plt.plot(wavelenght_2, black_body_wavelenght(3000), label=\"T=5700 K\")\n",
    "plt.plot(wavelenght_2, black_body_wavelenght(1000), label=\"T=3000 K\")\n",
    "#plt.plot(wavelenght_2, black_body_wavelenght(10**4), label=\"T=60000 K\")\n",
    "#plt.plot(wavelenght_2, black_body_wavelenght(10**6), label=\"T=60000 K\")\n",
    "#plt.plot(wavelenght, black_body_wavelenght(10**4), label=\"T=10^4 K\")\n",
    "#plt.plot(v, bbody(10**5), label=\"T=10^5 K\")\n",
    "#plt.plot(v, bbody(10**6), label=\"T=10^6 K\")\n",
    "#plt.plot(v, bbody(10**7), label=\"T=10^7 K\")\n",
    "\n",
    "plt.xscale(\"log\")\n",
    "plt.yscale(\"log\")\n",
    "plt.xlabel(\"v[Hz]\")\n",
    "plt.ylabel(\"emissivity [erg s^-1 cm^-3]\")\n",
    "#plt.xlim(6*10**(-6), 10**(-3))\n",
    "#plt.ylim(10**(11), 10**(16))\n",
    "plt.title(\"Black Body Spectra\")\n",
    "plt.legend()\n",
    "plt.grid()\n",
    "plt.show()"
   ]
  },
  {
   "cell_type": "code",
   "execution_count": null,
   "id": "e5dea855",
   "metadata": {},
   "outputs": [],
   "source": []
  }
 ],
 "metadata": {
  "kernelspec": {
   "display_name": "Python 3 (ipykernel)",
   "language": "python",
   "name": "python3"
  },
  "language_info": {
   "codemirror_mode": {
    "name": "ipython",
    "version": 3
   },
   "file_extension": ".py",
   "mimetype": "text/x-python",
   "name": "python",
   "nbconvert_exporter": "python",
   "pygments_lexer": "ipython3",
   "version": "3.11.5"
  }
 },
 "nbformat": 4,
 "nbformat_minor": 5
}
